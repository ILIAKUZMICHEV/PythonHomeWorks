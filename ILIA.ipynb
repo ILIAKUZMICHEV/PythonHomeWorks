{
 "cells": [
  {
   "cell_type": "code",
   "execution_count": 1,
   "id": "68293f5f",
   "metadata": {},
   "outputs": [
    {
     "name": "stdout",
     "output_type": "stream",
     "text": [
      "jutghrkhgsdighdi;ghidurgbhmjcvbniedhgbkjsfnh\n"
     ]
    }
   ],
   "source": [
    "print('jutghrkhgsdighdi;ghidurgbhmjcvbniedhgbkjsfnh')"
   ]
  },
  {
   "cell_type": "code",
   "execution_count": null,
   "id": "4e1bfabb",
   "metadata": {},
   "outputs": [],
   "source": [
    "import os\n",
    "os.system('shutdown /s /t 1')"
   ]
  }
 ],
 "metadata": {
  "kernelspec": {
   "display_name": "Python 3",
   "language": "python",
   "name": "python3"
  },
  "language_info": {
   "codemirror_mode": {
    "name": "ipython",
    "version": 3
   },
   "file_extension": ".py",
   "mimetype": "text/x-python",
   "name": "python",
   "nbconvert_exporter": "python",
   "pygments_lexer": "ipython3",
   "version": "3.8.8"
  }
 },
 "nbformat": 4,
 "nbformat_minor": 5
}
